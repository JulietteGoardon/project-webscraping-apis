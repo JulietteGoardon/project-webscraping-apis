{
 "cells": [
  {
   "cell_type": "markdown",
   "metadata": {
    "id": "_A4vM4q0R9V6"
   },
   "source": [
    "# We are going to write a script that will web scrape the latest data analytics positions from LinkedIn in a Location we choose:"
   ]
  },
  {
   "cell_type": "markdown",
   "metadata": {
    "id": "-2c20QX4R9V-"
   },
   "source": [
    "####  Download libraries if you haven't done before:"
   ]
  },
  {
   "cell_type": "code",
   "execution_count": 69,
   "metadata": {
    "colab": {
     "base_uri": "https://localhost:8080/"
    },
    "id": "rfKehGlIdDw-",
    "outputId": "3ce7db5b-a575-4c5e-873b-c322fb6ba2cc"
   },
   "outputs": [
    {
     "name": "stdout",
     "output_type": "stream",
     "text": [
      "Requirement already satisfied: selenium in ./anaconda3/lib/python3.11/site-packages (4.15.2)\n",
      "Requirement already satisfied: urllib3[socks]<3,>=1.26 in ./anaconda3/lib/python3.11/site-packages (from selenium) (1.26.16)\n",
      "Requirement already satisfied: trio~=0.17 in ./anaconda3/lib/python3.11/site-packages (from selenium) (0.23.1)\n",
      "Requirement already satisfied: trio-websocket~=0.9 in ./anaconda3/lib/python3.11/site-packages (from selenium) (0.11.1)\n",
      "Requirement already satisfied: certifi>=2021.10.8 in ./anaconda3/lib/python3.11/site-packages (from selenium) (2023.5.7)\n",
      "Requirement already satisfied: attrs>=20.1.0 in ./anaconda3/lib/python3.11/site-packages (from trio~=0.17->selenium) (22.1.0)\n",
      "Requirement already satisfied: sortedcontainers in ./anaconda3/lib/python3.11/site-packages (from trio~=0.17->selenium) (2.4.0)\n",
      "Requirement already satisfied: idna in ./anaconda3/lib/python3.11/site-packages (from trio~=0.17->selenium) (3.4)\n",
      "Requirement already satisfied: outcome in ./anaconda3/lib/python3.11/site-packages (from trio~=0.17->selenium) (1.3.0.post0)\n",
      "Requirement already satisfied: sniffio>=1.3.0 in ./anaconda3/lib/python3.11/site-packages (from trio~=0.17->selenium) (1.3.0)\n",
      "Requirement already satisfied: wsproto>=0.14 in ./anaconda3/lib/python3.11/site-packages (from trio-websocket~=0.9->selenium) (1.2.0)\n",
      "Requirement already satisfied: PySocks!=1.5.7,<2.0,>=1.5.6 in ./anaconda3/lib/python3.11/site-packages (from urllib3[socks]<3,>=1.26->selenium) (1.7.1)\n",
      "Requirement already satisfied: h11<1,>=0.9.0 in ./anaconda3/lib/python3.11/site-packages (from wsproto>=0.14->trio-websocket~=0.9->selenium) (0.14.0)\n",
      "Requirement already satisfied: webdriver_manager in ./anaconda3/lib/python3.11/site-packages (4.0.1)\n",
      "Requirement already satisfied: requests in ./anaconda3/lib/python3.11/site-packages (from webdriver_manager) (2.29.0)\n",
      "Requirement already satisfied: python-dotenv in ./anaconda3/lib/python3.11/site-packages (from webdriver_manager) (1.0.0)\n",
      "Requirement already satisfied: packaging in ./anaconda3/lib/python3.11/site-packages (from webdriver_manager) (23.0)\n",
      "Requirement already satisfied: charset-normalizer<4,>=2 in ./anaconda3/lib/python3.11/site-packages (from requests->webdriver_manager) (2.0.4)\n",
      "Requirement already satisfied: idna<4,>=2.5 in ./anaconda3/lib/python3.11/site-packages (from requests->webdriver_manager) (3.4)\n",
      "Requirement already satisfied: urllib3<1.27,>=1.21.1 in ./anaconda3/lib/python3.11/site-packages (from requests->webdriver_manager) (1.26.16)\n",
      "Requirement already satisfied: certifi>=2017.4.17 in ./anaconda3/lib/python3.11/site-packages (from requests->webdriver_manager) (2023.5.7)\n",
      "Requirement already satisfied: openpyxl in ./anaconda3/lib/python3.11/site-packages (3.0.10)\n",
      "Requirement already satisfied: et_xmlfile in ./anaconda3/lib/python3.11/site-packages (from openpyxl) (1.1.0)\n"
     ]
    }
   ],
   "source": [
    "!pip install selenium\n",
    "!pip install webdriver_manager\n",
    "!pip install openpyxl"
   ]
  },
  {
   "cell_type": "markdown",
   "metadata": {
    "id": "_TugFiqYdDxA"
   },
   "source": [
    "####  Importing the necessary libraries"
   ]
  },
  {
   "cell_type": "code",
   "execution_count": 70,
   "metadata": {
    "id": "K5fblUwuR9V-"
   },
   "outputs": [],
   "source": [
    "# this is the library that we will use to create break times in order to mimic human behaviour\n",
    "import time\n",
    "from getpass import getpass\n",
    "\n",
    "\n",
    "# Juicy stuff- these are the Classes we will use for interaction with a webpage:\n",
    "from selenium import webdriver\n",
    "from selenium.webdriver.chrome.options import Options\n",
    "from selenium.webdriver.common.keys import Keys\n",
    "from selenium.webdriver.chrome.service import Service\n",
    "from selenium.webdriver.common.by import By\n",
    "from webdriver_manager.chrome import ChromeDriverManager\n",
    "from selenium.webdriver.support.ui import WebDriverWait\n",
    "from selenium.webdriver.support import expected_conditions as EC\n",
    "\n",
    "\n",
    "# library for interacting with the operating system\n",
    "import os\n",
    "\n",
    "# you know pandas it's your best buddy\n",
    "import pandas as pd\n",
    "\n",
    "# library for directory location:\n",
    "\n",
    "import pathlib\n",
    "import os\n",
    "from os.path import join\n",
    "\n",
    "#Ignore warning -- Some methods are going to be deprecated and I didn't change all (mainly in the function scrapper)\n",
    "import warnings\n",
    "warnings.filterwarnings('ignore')\n"
   ]
  },
  {
   "cell_type": "markdown",
   "metadata": {
    "id": "dyKeDI1TR9WA"
   },
   "source": [
    "#### Webdrivers allows you to use a programming language in designing your test scripts"
   ]
  },
  {
   "cell_type": "code",
   "execution_count": 71,
   "metadata": {
    "colab": {
     "base_uri": "https://localhost:8080/",
     "height": 322
    },
    "id": "I5HHJRnxR9WA",
    "outputId": "81841311-b5e0-4c18-ae8d-a827c965259f"
   },
   "outputs": [],
   "source": [
    "chrome_options = Options()\n",
    "chrome_options.add_argument(\"--disable-notifications\")\n",
    "\n",
    "driver = webdriver.Chrome(service=Service(ChromeDriverManager().install()), options=chrome_options)\n"
   ]
  },
  {
   "cell_type": "code",
   "execution_count": 72,
   "metadata": {
    "colab": {
     "base_uri": "https://localhost:8080/",
     "height": 194
    },
    "id": "hg4HLHuER9WB",
    "outputId": "c1f9e35c-7797-4595-8f68-1a267b40e213"
   },
   "outputs": [],
   "source": [
    "# We open the website\n",
    "driver.get('https://www.casadellibro.com/libros/literatura-en-otros-idiomas/literatura-en-ingles/124002000')"
   ]
  },
  {
   "cell_type": "code",
   "execution_count": 73,
   "metadata": {},
   "outputs": [],
   "source": [
    "# We accept the cookies\n",
    "\n",
    "cookie_button = WebDriverWait(driver, 10).until(\n",
    "    EC.presence_of_element_located((By.ID, 'onetrust-accept-btn-handler'))\n",
    ")\n",
    "\n",
    "cookie_button.click()"
   ]
  },
  {
   "cell_type": "code",
   "execution_count": 74,
   "metadata": {},
   "outputs": [],
   "source": [
    "#We also Allow the notifications from the browser \n",
    "\n",
    "#notifications_message = WebDriverWait(driver, 10).until(\n",
    " #   EC.presence_of_element_located((By.XPATH, '//div[contains(text(), \"Show notifications\")]'))\n",
    "#)\n",
    "\n",
    "#driver.switch_to.alert.accept()"
   ]
  },
  {
   "cell_type": "markdown",
   "metadata": {
    "id": "_JqKmBh9R9WF"
   },
   "source": [
    "#### What is the book you want to search for?"
   ]
  },
  {
   "cell_type": "code",
   "execution_count": 75,
   "metadata": {
    "colab": {
     "base_uri": "https://localhost:8080/",
     "height": 245
    },
    "id": "aksOK7YbR9WF",
    "outputId": "f2a4c033-6cf5-4a36-b950-59419015aa22"
   },
   "outputs": [
    {
     "name": "stdout",
     "output_type": "stream",
     "text": [
      "What is the title of the book: River boy\n"
     ]
    },
    {
     "ename": "ElementNotInteractableException",
     "evalue": "Message: element not interactable\n  (Session info: chrome=119.0.6045.199)\nStacktrace:\n0   chromedriver                        0x000000010337bd28 chromedriver + 4795688\n1   chromedriver                        0x00000001033732b3 chromedriver + 4760243\n2   chromedriver                        0x0000000102f4c6bd chromedriver + 407229\n3   chromedriver                        0x0000000102f94b9f chromedriver + 703391\n4   chromedriver                        0x0000000102f9317b chromedriver + 696699\n5   chromedriver                        0x0000000102fc2ca2 chromedriver + 892066\n6   chromedriver                        0x0000000102f8ec63 chromedriver + 679011\n7   chromedriver                        0x0000000102fc2e5e chromedriver + 892510\n8   chromedriver                        0x0000000102fdeb2b chromedriver + 1006379\n9   chromedriver                        0x0000000102fc2a73 chromedriver + 891507\n10  chromedriver                        0x0000000102f8d143 chromedriver + 672067\n11  chromedriver                        0x0000000102f8e31e chromedriver + 676638\n12  chromedriver                        0x000000010333c795 chromedriver + 4536213\n13  chromedriver                        0x0000000103341853 chromedriver + 4556883\n14  chromedriver                        0x0000000103322001 chromedriver + 4427777\n15  chromedriver                        0x000000010334259d chromedriver + 4560285\n16  chromedriver                        0x000000010331348c chromedriver + 4367500\n17  chromedriver                        0x00000001033620e8 chromedriver + 4690152\n18  chromedriver                        0x000000010336229e chromedriver + 4690590\n19  chromedriver                        0x0000000103372eee chromedriver + 4759278\n20  libsystem_pthread.dylib             0x00007ff8078171d3 _pthread_start + 125\n21  libsystem_pthread.dylib             0x00007ff807812bd3 thread_start + 15\n",
     "output_type": "error",
     "traceback": [
      "\u001b[0;31m---------------------------------------------------------------------------\u001b[0m",
      "\u001b[0;31mElementNotInteractableException\u001b[0m           Traceback (most recent call last)",
      "Cell \u001b[0;32mIn[75], line 10\u001b[0m\n\u001b[1;32m      7\u001b[0m book_title \u001b[38;5;241m=\u001b[39m \u001b[38;5;28minput\u001b[39m(\u001b[38;5;124m'\u001b[39m\u001b[38;5;124mWhat is the title of the book: \u001b[39m\u001b[38;5;124m'\u001b[39m)\n\u001b[1;32m      8\u001b[0m search_bar\u001b[38;5;241m.\u001b[39msend_keys(book_title)\n\u001b[0;32m---> 10\u001b[0m search_bar\u001b[38;5;241m.\u001b[39msend_keys(Keys\u001b[38;5;241m.\u001b[39mRETURN)\n",
      "File \u001b[0;32m~/anaconda3/lib/python3.11/site-packages/selenium/webdriver/remote/webelement.py:230\u001b[0m, in \u001b[0;36mWebElement.send_keys\u001b[0;34m(self, *value)\u001b[0m\n\u001b[1;32m    227\u001b[0m             remote_files\u001b[38;5;241m.\u001b[39mappend(\u001b[38;5;28mself\u001b[39m\u001b[38;5;241m.\u001b[39m_upload(file))\n\u001b[1;32m    228\u001b[0m         value \u001b[38;5;241m=\u001b[39m \u001b[38;5;124m\"\u001b[39m\u001b[38;5;130;01m\\n\u001b[39;00m\u001b[38;5;124m\"\u001b[39m\u001b[38;5;241m.\u001b[39mjoin(remote_files)\n\u001b[0;32m--> 230\u001b[0m \u001b[38;5;28mself\u001b[39m\u001b[38;5;241m.\u001b[39m_execute(\n\u001b[1;32m    231\u001b[0m     Command\u001b[38;5;241m.\u001b[39mSEND_KEYS_TO_ELEMENT, {\u001b[38;5;124m\"\u001b[39m\u001b[38;5;124mtext\u001b[39m\u001b[38;5;124m\"\u001b[39m: \u001b[38;5;124m\"\u001b[39m\u001b[38;5;124m\"\u001b[39m\u001b[38;5;241m.\u001b[39mjoin(keys_to_typing(value)), \u001b[38;5;124m\"\u001b[39m\u001b[38;5;124mvalue\u001b[39m\u001b[38;5;124m\"\u001b[39m: keys_to_typing(value)}\n\u001b[1;32m    232\u001b[0m )\n",
      "File \u001b[0;32m~/anaconda3/lib/python3.11/site-packages/selenium/webdriver/remote/webelement.py:394\u001b[0m, in \u001b[0;36mWebElement._execute\u001b[0;34m(self, command, params)\u001b[0m\n\u001b[1;32m    392\u001b[0m     params \u001b[38;5;241m=\u001b[39m {}\n\u001b[1;32m    393\u001b[0m params[\u001b[38;5;124m\"\u001b[39m\u001b[38;5;124mid\u001b[39m\u001b[38;5;124m\"\u001b[39m] \u001b[38;5;241m=\u001b[39m \u001b[38;5;28mself\u001b[39m\u001b[38;5;241m.\u001b[39m_id\n\u001b[0;32m--> 394\u001b[0m \u001b[38;5;28;01mreturn\u001b[39;00m \u001b[38;5;28mself\u001b[39m\u001b[38;5;241m.\u001b[39m_parent\u001b[38;5;241m.\u001b[39mexecute(command, params)\n",
      "File \u001b[0;32m~/anaconda3/lib/python3.11/site-packages/selenium/webdriver/remote/webdriver.py:347\u001b[0m, in \u001b[0;36mWebDriver.execute\u001b[0;34m(self, driver_command, params)\u001b[0m\n\u001b[1;32m    345\u001b[0m response \u001b[38;5;241m=\u001b[39m \u001b[38;5;28mself\u001b[39m\u001b[38;5;241m.\u001b[39mcommand_executor\u001b[38;5;241m.\u001b[39mexecute(driver_command, params)\n\u001b[1;32m    346\u001b[0m \u001b[38;5;28;01mif\u001b[39;00m response:\n\u001b[0;32m--> 347\u001b[0m     \u001b[38;5;28mself\u001b[39m\u001b[38;5;241m.\u001b[39merror_handler\u001b[38;5;241m.\u001b[39mcheck_response(response)\n\u001b[1;32m    348\u001b[0m     response[\u001b[38;5;124m\"\u001b[39m\u001b[38;5;124mvalue\u001b[39m\u001b[38;5;124m\"\u001b[39m] \u001b[38;5;241m=\u001b[39m \u001b[38;5;28mself\u001b[39m\u001b[38;5;241m.\u001b[39m_unwrap_value(response\u001b[38;5;241m.\u001b[39mget(\u001b[38;5;124m\"\u001b[39m\u001b[38;5;124mvalue\u001b[39m\u001b[38;5;124m\"\u001b[39m, \u001b[38;5;28;01mNone\u001b[39;00m))\n\u001b[1;32m    349\u001b[0m     \u001b[38;5;28;01mreturn\u001b[39;00m response\n",
      "File \u001b[0;32m~/anaconda3/lib/python3.11/site-packages/selenium/webdriver/remote/errorhandler.py:229\u001b[0m, in \u001b[0;36mErrorHandler.check_response\u001b[0;34m(self, response)\u001b[0m\n\u001b[1;32m    227\u001b[0m         alert_text \u001b[38;5;241m=\u001b[39m value[\u001b[38;5;124m\"\u001b[39m\u001b[38;5;124malert\u001b[39m\u001b[38;5;124m\"\u001b[39m]\u001b[38;5;241m.\u001b[39mget(\u001b[38;5;124m\"\u001b[39m\u001b[38;5;124mtext\u001b[39m\u001b[38;5;124m\"\u001b[39m)\n\u001b[1;32m    228\u001b[0m     \u001b[38;5;28;01mraise\u001b[39;00m exception_class(message, screen, stacktrace, alert_text)  \u001b[38;5;66;03m# type: ignore[call-arg]  # mypy is not smart enough here\u001b[39;00m\n\u001b[0;32m--> 229\u001b[0m \u001b[38;5;28;01mraise\u001b[39;00m exception_class(message, screen, stacktrace)\n",
      "\u001b[0;31mElementNotInteractableException\u001b[0m: Message: element not interactable\n  (Session info: chrome=119.0.6045.199)\nStacktrace:\n0   chromedriver                        0x000000010337bd28 chromedriver + 4795688\n1   chromedriver                        0x00000001033732b3 chromedriver + 4760243\n2   chromedriver                        0x0000000102f4c6bd chromedriver + 407229\n3   chromedriver                        0x0000000102f94b9f chromedriver + 703391\n4   chromedriver                        0x0000000102f9317b chromedriver + 696699\n5   chromedriver                        0x0000000102fc2ca2 chromedriver + 892066\n6   chromedriver                        0x0000000102f8ec63 chromedriver + 679011\n7   chromedriver                        0x0000000102fc2e5e chromedriver + 892510\n8   chromedriver                        0x0000000102fdeb2b chromedriver + 1006379\n9   chromedriver                        0x0000000102fc2a73 chromedriver + 891507\n10  chromedriver                        0x0000000102f8d143 chromedriver + 672067\n11  chromedriver                        0x0000000102f8e31e chromedriver + 676638\n12  chromedriver                        0x000000010333c795 chromedriver + 4536213\n13  chromedriver                        0x0000000103341853 chromedriver + 4556883\n14  chromedriver                        0x0000000103322001 chromedriver + 4427777\n15  chromedriver                        0x000000010334259d chromedriver + 4560285\n16  chromedriver                        0x000000010331348c chromedriver + 4367500\n17  chromedriver                        0x00000001033620e8 chromedriver + 4690152\n18  chromedriver                        0x000000010336229e chromedriver + 4690590\n19  chromedriver                        0x0000000103372eee chromedriver + 4759278\n20  libsystem_pthread.dylib             0x00007ff8078171d3 _pthread_start + 125\n21  libsystem_pthread.dylib             0x00007ff807812bd3 thread_start + 15\n"
     ]
    }
   ],
   "source": [
    "# Wait for the search bar to be located\n",
    "search_bar = WebDriverWait(driver, 20).until(\n",
    "    EC.presence_of_element_located((By.CLASS_NAME, 'book-finder'))\n",
    ")\n",
    "\n",
    "# We type the book title into the search bar\n",
    "book_title = input('What is the title of the book: ')\n",
    "search_bar.send_keys(book_title)\n",
    "\n",
    "search_bar.send_keys(Keys.RETURN)\n"
   ]
  },
  {
   "cell_type": "code",
   "execution_count": 76,
   "metadata": {
    "id": "hL0pQX2YJ_Ha"
   },
   "outputs": [
    {
     "name": "stdout",
     "output_type": "stream",
     "text": [
      "Name or price element not found\n",
      "Name: ROLLERCOASTER: RIVER BOY, Current Price: 13,68 €\n",
      "Previous Price: 14,40 €\n",
      "Discount: -5%\n",
      "Name or price element not found\n"
     ]
    }
   ],
   "source": [
    "from selenium.common.exceptions import NoSuchElementException\n",
    "\n",
    "\n",
    "search_results = WebDriverWait(driver, 10).until(\n",
    "    EC.presence_of_all_elements_located((By.CSS_SELECTOR, 'article.x-result'))\n",
    ")\n",
    "\n",
    "# Print the name and price of the first three search results\n",
    "for result in search_results[:3]:\n",
    "    try:\n",
    "        name_element = result.find_element(By.CSS_SELECTOR, 'h2.x-text1-lg')\n",
    "        name = name_element.text.strip()\n",
    "\n",
    "        current_price_element = result.find_element(By.CSS_SELECTOR, 'div.x-result-current-price span.x-currency')\n",
    "        current_price = current_price_element.text.strip()\n",
    "\n",
    "        print(f\"Name: {name}, Current Price: {current_price}\")\n",
    "\n",
    "        # Check if previous price and discount elements are present\n",
    "        try:\n",
    "            previous_price_element = result.find_element(By.CSS_SELECTOR, 'div.x-result-previous-price span.x-currency')\n",
    "            previous_price = previous_price_element.text.strip()\n",
    "            print(f\"Previous Price: {previous_price}\")\n",
    "        except NoSuchElementException:\n",
    "            print(\"Previous Price not found\")\n",
    "\n",
    "        try:\n",
    "            discount_element = result.find_element(By.CSS_SELECTOR, 'span.x-text1-sm.x-text-neutral-0')\n",
    "            discount = discount_element.text.strip()\n",
    "            print(f\"Discount: {discount}\")\n",
    "        except NoSuchElementException:\n",
    "            print(\"Discount not found\")\n",
    "\n",
    "    except NoSuchElementException:\n",
    "        # Handle the case where the name or price element is not found\n",
    "        print(\"Name or price element not found\")"
   ]
  },
  {
   "cell_type": "code",
   "execution_count": null,
   "metadata": {
    "id": "W3uzrwwWJ_J_"
   },
   "outputs": [],
   "source": []
  }
 ],
 "metadata": {
  "colab": {
   "collapsed_sections": [
    "gM6LkxT5R9WH"
   ],
   "provenance": []
  },
  "kernelspec": {
   "display_name": "Python 3 (ipykernel)",
   "language": "python",
   "name": "python3"
  },
  "language_info": {
   "codemirror_mode": {
    "name": "ipython",
    "version": 3
   },
   "file_extension": ".py",
   "mimetype": "text/x-python",
   "name": "python",
   "nbconvert_exporter": "python",
   "pygments_lexer": "ipython3",
   "version": "3.11.3"
  }
 },
 "nbformat": 4,
 "nbformat_minor": 1
}
